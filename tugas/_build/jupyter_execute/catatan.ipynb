{
 "cells": [
  {
   "cell_type": "code",
   "execution_count": 1,
   "metadata": {},
   "outputs": [
    {
     "name": "stdout",
     "output_type": "stream",
     "text": [
      "[[2 0]\n",
      " [0 1]]\n",
      "[[2 0]\n",
      " [0 1]]\n"
     ]
    }
   ],
   "source": [
    "import numpy as np\n",
    "A = np.array([[2,1],[1,1]])\n",
    "I = np.array([[1,0],[0,1]])\n",
    "\n",
    "B = A * I\n",
    "C = I * A\n",
    "\n",
    "print(B)\n",
    "print(C)\n"
   ]
  },
  {
   "cell_type": "code",
   "execution_count": 2,
   "metadata": {},
   "outputs": [],
   "source": [
    "x1 = 3\n",
    "x2 = 1\n",
    "x3 = 1\n",
    "\n",
    "A = 2*x1 + 2*x2 + x3\n",
    "B = 2*x1 + 2*x2 + x3\n",
    "C = 2*x1 + 2*x2 + x3\n",
    "\n"
   ]
  },
  {
   "cell_type": "code",
   "execution_count": 3,
   "metadata": {},
   "outputs": [],
   "source": [
    "def RowSwap(A,k,l):\n",
    "# =============================================================================\n",
    "#     A is a NumPy array.  RowSwap will return duplicate array with rows\n",
    "#     k and l swapped.\n",
    "# =============================================================================\n",
    "    m = A.shape[0]  # m is number of rows in A\n",
    "    n = A.shape[1]  # n is number of columns in A\n",
    "\n",
    "    B = np.copy(A).astype('float64')\n",
    "\n",
    "    for j in range(n):\n",
    "        temp = B[k][j]\n",
    "        B[k][j] = B[l][j]\n",
    "        B[l][j] = temp\n",
    "\n",
    "    return B\n",
    "\n",
    "def RowScale(A,k,scale):\n",
    "# =============================================================================\n",
    "#     A is a NumPy array.  RowScale will return duplicate array with the\n",
    "#     entries of row k multiplied by scale.\n",
    "# =============================================================================\n",
    "    m = A.shape[0]  # m is number of rows in A\n",
    "    n = A.shape[1]  # n is number of columns in A\n",
    "\n",
    "    B = np.copy(A).astype('float64')\n",
    "\n",
    "    for j in range(n):\n",
    "        B[k][j] *= scale\n",
    "\n",
    "    return B\n",
    "\n",
    "def RowAdd(A,k,l,scale):\n",
    "# =============================================================================\n",
    "#     A is a numpy array.  RowAdd will return duplicate array with row\n",
    "#     l modifed.  The new values will be the old values of row l added to\n",
    "#     the values of row k, multiplied by scale.\n",
    "# =============================================================================\n",
    "    m = A.shape[0]  # m is number of rows in A\n",
    "    n = A.shape[1]  # n is number of columns in A\n",
    "\n",
    "    B = np.copy(A).astype('float64')\n",
    "\n",
    "    for j in range(n):\n",
    "        B[l][j] += B[k][j]*scale\n",
    "\n",
    "    return B"
   ]
  },
  {
   "cell_type": "code",
   "execution_count": 4,
   "metadata": {},
   "outputs": [
    {
     "name": "stdout",
     "output_type": "stream",
     "text": [
      "[[ 2  2  1]\n",
      " [ 4  2  3]\n",
      " [ 1  3 -1]]\n",
      "[[1 0 0]\n",
      " [0 1 0]\n",
      " [0 0 1]]\n"
     ]
    }
   ],
   "source": [
    "import numpy as np\n",
    "A=np.array([[2,2,1],[4,2,3],[1,3,-1]])\n",
    "print(A)\n",
    "I=np.array([[1,0,0],[0,1,0],[0,0,1]])\n",
    "print(I)"
   ]
  },
  {
   "cell_type": "code",
   "execution_count": 5,
   "metadata": {},
   "outputs": [
    {
     "name": "stdout",
     "output_type": "stream",
     "text": [
      "[[ 2.  2.  1.]\n",
      " [ 0. -2.  1.]\n",
      " [ 1.  3. -1.]]\n",
      "\n",
      "[[ 1.  0.  0.]\n",
      " [-2.  1.  0.]\n",
      " [ 0.  0.  1.]]\n"
     ]
    }
   ],
   "source": [
    "\n",
    "A2 = RowAdd(A,0,1,-2)\n",
    "print(A2)\n",
    "print()\n",
    "I2 = RowAdd(I,0,1,-2)\n",
    "print(I2)"
   ]
  },
  {
   "cell_type": "code",
   "execution_count": 6,
   "metadata": {},
   "outputs": [
    {
     "name": "stdout",
     "output_type": "stream",
     "text": [
      "[[ 2.   2.   1. ]\n",
      " [ 0.  -2.   1. ]\n",
      " [ 0.   2.  -1.5]]\n",
      "\n",
      "[[ 1.   0.   0. ]\n",
      " [-2.   1.   0. ]\n",
      " [-0.5  0.   1. ]]\n"
     ]
    }
   ],
   "source": [
    "A3 = RowAdd(A2,0,2,-1/2)\n",
    "print(A3)\n",
    "print()\n",
    "I3 = RowAdd(I2,0,2,-1/2)\n",
    "print(I3)"
   ]
  },
  {
   "cell_type": "code",
   "execution_count": 7,
   "metadata": {},
   "outputs": [
    {
     "name": "stdout",
     "output_type": "stream",
     "text": [
      "[[ 2.   2.   1. ]\n",
      " [ 0.  -2.   1. ]\n",
      " [ 0.   0.  -0.5]]\n",
      "\n",
      "[[ 1.   0.   0. ]\n",
      " [-2.   1.   0. ]\n",
      " [-2.5  1.   1. ]]\n"
     ]
    }
   ],
   "source": [
    "A4 = RowAdd(A3,1,2,1)\n",
    "print(A4)\n",
    "print()\n",
    "I4 = RowAdd(I3,1,2,1)\n",
    "print(I4)"
   ]
  },
  {
   "cell_type": "code",
   "execution_count": 8,
   "metadata": {},
   "outputs": [
    {
     "name": "stdout",
     "output_type": "stream",
     "text": [
      "[[ 1.   1.   0.5]\n",
      " [ 0.  -2.   1. ]\n",
      " [ 0.   0.  -0.5]]\n",
      "\n",
      "[[ 0.5  0.   0. ]\n",
      " [-2.   1.   0. ]\n",
      " [-2.5  1.   1. ]]\n"
     ]
    }
   ],
   "source": [
    "A5 = RowScale(A4,0,1/2)\n",
    "print(A5)\n",
    "print()\n",
    "I5 = RowScale(I4,0,1/2)\n",
    "print(I5)"
   ]
  },
  {
   "cell_type": "code",
   "execution_count": 9,
   "metadata": {},
   "outputs": [
    {
     "name": "stdout",
     "output_type": "stream",
     "text": [
      "[[ 1.   1.   0.5]\n",
      " [-0.   1.  -0.5]\n",
      " [ 0.   0.  -0.5]]\n",
      "\n",
      "[[ 0.5  0.   0. ]\n",
      " [ 1.  -0.5 -0. ]\n",
      " [-2.5  1.   1. ]]\n"
     ]
    }
   ],
   "source": [
    "A6 = RowScale(A5,1,-1/2)\n",
    "print(A6)\n",
    "print()\n",
    "I6 = RowScale(I5,1,-1/2)\n",
    "print(I6)"
   ]
  },
  {
   "cell_type": "code",
   "execution_count": 10,
   "metadata": {},
   "outputs": [
    {
     "name": "stdout",
     "output_type": "stream",
     "text": [
      "[[ 1.   1.   0.5]\n",
      " [-0.   1.  -0.5]\n",
      " [-0.  -0.   1. ]]\n",
      "\n",
      "[[ 0.5  0.   0. ]\n",
      " [ 1.  -0.5 -0. ]\n",
      " [ 5.  -2.  -2. ]]\n"
     ]
    }
   ],
   "source": [
    "A7 = RowScale(A6,2,-2)\n",
    "print(A7)\n",
    "print()\n",
    "I7 = RowScale(I6,2,-2)\n",
    "print(I7)"
   ]
  },
  {
   "cell_type": "code",
   "execution_count": 11,
   "metadata": {},
   "outputs": [
    {
     "name": "stdout",
     "output_type": "stream",
     "text": [
      "[[ 1.   1.   0.5]\n",
      " [-0.   1.   0. ]\n",
      " [-0.  -0.   1. ]]\n",
      "\n",
      "[[ 0.5  0.   0. ]\n",
      " [ 1.  -0.5 -0. ]\n",
      " [ 5.  -2.  -2. ]]\n"
     ]
    }
   ],
   "source": [
    "A8 = RowAdd(A7,2,1,1/2)\n",
    "print(A8)\n",
    "print()\n",
    "I8 = RowAdd(I7,2,1,1/2)\n",
    "print(I7)"
   ]
  },
  {
   "cell_type": "code",
   "execution_count": 12,
   "metadata": {},
   "outputs": [
    {
     "name": "stdout",
     "output_type": "stream",
     "text": [
      "[[ 1.  1.  0.]\n",
      " [-0.  1.  0.]\n",
      " [-0. -0.  1.]]\n",
      "\n",
      "[[-2.   1.   1. ]\n",
      " [ 3.5 -1.5 -1. ]\n",
      " [ 5.  -2.  -2. ]]\n"
     ]
    }
   ],
   "source": [
    "A9 = RowAdd(A8,2,0,-1/2)\n",
    "print(A9)\n",
    "print()\n",
    "I9 = RowAdd(I8,2,0,-1/2)\n",
    "print(I9)"
   ]
  },
  {
   "cell_type": "code",
   "execution_count": 13,
   "metadata": {},
   "outputs": [
    {
     "name": "stdout",
     "output_type": "stream",
     "text": [
      "[[ 1.  0.  0.]\n",
      " [-0.  1.  0.]\n",
      " [-0. -0.  1.]]\n",
      "\n",
      "[[-5.5  2.5  2. ]\n",
      " [ 3.5 -1.5 -1. ]\n",
      " [ 5.  -2.  -2. ]]\n"
     ]
    }
   ],
   "source": [
    "A10 = RowAdd(A9,1,0,-1)\n",
    "print(A10)\n",
    "print()\n",
    "I10 = RowAdd(I9,1,0,-1)\n",
    "print(I10)"
   ]
  },
  {
   "cell_type": "code",
   "execution_count": 14,
   "metadata": {},
   "outputs": [
    {
     "name": "stdout",
     "output_type": "stream",
     "text": [
      "[[ 9]\n",
      " [17]\n",
      " [ 5]]\n"
     ]
    }
   ],
   "source": [
    "import numpy as np\n",
    "b = np.array([[9],[17],[5]])\n",
    "print(b)"
   ]
  },
  {
   "cell_type": "code",
   "execution_count": 15,
   "metadata": {},
   "outputs": [
    {
     "name": "stdout",
     "output_type": "stream",
     "text": [
      "[[3.]\n",
      " [1.]\n",
      " [1.]]\n"
     ]
    }
   ],
   "source": [
    "hasil = I10 @ b\n",
    "print(hasil)"
   ]
  }
 ],
 "metadata": {
  "kernelspec": {
   "display_name": "Python 3",
   "language": "python",
   "name": "python3"
  },
  "language_info": {
   "codemirror_mode": {
    "name": "ipython",
    "version": 3
   },
   "file_extension": ".py",
   "mimetype": "text/x-python",
   "name": "python",
   "nbconvert_exporter": "python",
   "pygments_lexer": "ipython3",
   "version": "3.10.13"
  }
 },
 "nbformat": 4,
 "nbformat_minor": 2
}