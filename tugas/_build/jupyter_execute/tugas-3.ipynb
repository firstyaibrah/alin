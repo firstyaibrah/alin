{
 "cells": [
  {
   "cell_type": "markdown",
   "metadata": {},
   "source": [
    "# Aljabar Matrix"
   ]
  },
  {
   "cell_type": "markdown",
   "metadata": {},
   "source": [
    "##  Menghitung Matrix dengan Program"
   ]
  },
  {
   "cell_type": "markdown",
   "metadata": {},
   "source": [
    "### Cara Membuat Matrix Secara Manual Menggunakan Program Python\n",
    "\n"
   ]
  },
  {
   "cell_type": "markdown",
   "metadata": {},
   "source": [
    "1. Memanggil library numpy menggunakan syntax [import numpy] import. fungsinya untuk memanggil file lain dalam satu modul karena numpy adalah sebuah library yang bisa di panggil\n",
    "\n",
    "2. Membuat matrix secara manual menggunakan syntax \"numpy.array\", misal : [ A = numpy.array([[1,3,4],[-2,-8,-5]]) ], dengan isi numpy.array numpy adalah library yang sudah dipanggil tadi, dan array kegunaannya untuk memudahkan operasi komputasi tipe data numerik seperti penjumlahan, pengurangan, perkalian, pangkat, dan operasi lainnya yang bisa diterapkan pada vektor atau matrix dan beri angka untuk kolom dan baris pada matrix"
   ]
  },
  {
   "cell_type": "code",
   "execution_count": 1,
   "metadata": {},
   "outputs": [
    {
     "name": "stdout",
     "output_type": "stream",
     "text": [
      "[[ 1  3  4]\n",
      " [-2 -8 -5]]\n"
     ]
    }
   ],
   "source": [
    "import numpy\n",
    "\n",
    "A = numpy.array([[1,3,4],[-2,-8,-5]])\n",
    "print(A)"
   ]
  },
  {
   "cell_type": "markdown",
   "metadata": {},
   "source": [
    "### Cara Menentukan Matrix Secara Random Menggunakan Program Python\n",
    "1. Memanggil numpy dan random menggunakan syntax [import numpy] & [import Random] import gunanya untuk kita memanggil file lain dalam satu modul, numpy dan random adalah sebuah library yang bisa di panggil\n",
    "\n",
    "2. Membuat matrix menggunakan syntax \"numpy.random.randint\" misalnya : [ “A = numpy.random.randint(10, size=(2,2))” ], disini kegunaan dari randint sendiri adalah untuk mengacak angka, dan 10 adalah batas dari acak angka randint, size=(2,2) adalah ukuran kolom baris sebuah matrix"
   ]
  },
  {
   "cell_type": "code",
   "execution_count": 2,
   "metadata": {},
   "outputs": [
    {
     "name": "stdout",
     "output_type": "stream",
     "text": [
      "[[2 4]\n",
      " [9 7]]\n"
     ]
    }
   ],
   "source": [
    "import numpy as np\n",
    "import random\n",
    "\n",
    "A = np.random.randint(10,size=(2,2))\n",
    "print(A)"
   ]
  },
  {
   "cell_type": "markdown",
   "metadata": {},
   "source": [
    "### Cara Mengubah Matrix Menjadi Matrix Transpose Menggunakan Program Python\n",
    "\n",
    "Menentukan Matrix mana yang ingin di transpose, dan beri syntax [A.transpose()] Syntax “transpose()” digunakan untuk menghasilkan transpos dari matriks A. Transpos suatu matriks adalah operasi yang mengubah baris matriks menjadi kolom dan sebaliknya. Dengan kata lain, elemen pada baris ke-i dan kolom ke-j dari matriks asli akan menjadi elemen pada baris ke-j dan kolom ke-i dalam matriks transpose"
   ]
  },
  {
   "cell_type": "code",
   "execution_count": 3,
   "metadata": {},
   "outputs": [
    {
     "name": "stdout",
     "output_type": "stream",
     "text": [
      "Matrix A\n",
      "[[8 8]\n",
      " [6 0]]\n",
      "Matrix A yang sudah di transpose\n",
      "[[8 6]\n",
      " [8 0]]\n"
     ]
    }
   ],
   "source": [
    "import numpy as np\n",
    "import random\n",
    "\n",
    "A = np.random.randint(10,size=(2,2))\n",
    "A_T = A.transpose()\n",
    "print(\"Matrix A\")\n",
    "print(A)\n",
    "print(\"Matrix A yang sudah di transpose\")\n",
    "print(A_T)\n"
   ]
  },
  {
   "cell_type": "markdown",
   "metadata": {},
   "source": [
    "### Cara Mengetahui Shape Matrix Menggunakan Program Python\n",
    "\n",
    "Menentukan variable matrix mana yang ingin di ketahui shape nya, dan tambahkan syntax [A.Shape] Shape digunakan untuk mendapatkan tuple yang menyatakan dimensi dari array/matriks A. Dalam konteks NumPy atau library lain yang mendukung atribut shape, A.shape memberikan informasi tentang jumlah baris dan kolom"
   ]
  },
  {
   "cell_type": "code",
   "execution_count": 4,
   "metadata": {},
   "outputs": [
    {
     "data": {
      "text/plain": [
       "(4, 4)"
      ]
     },
     "execution_count": 4,
     "metadata": {},
     "output_type": "execute_result"
    }
   ],
   "source": [
    "import numpy as np\n",
    "import random\n",
    "\n",
    "A = np.random.randint(10,size=(4,4))\n",
    "A.shape"
   ]
  },
  {
   "cell_type": "markdown",
   "metadata": {},
   "source": [
    "## Operasi pada Matriks\n",
    "\n",
    "Operasi matriks adalah operasi yang dilakukan terhadap dua atau lebih matriks. Ini juga dikenal sebagai operasi aljabar matriks. Terdapat tiga jenis operasi matriks yang umum dilakukan:\n",
    "\n",
    "### Penjumlahan\n",
    "\n",
    "Penjumlahan matriks mirip dengan penjumlahan pada bilangan. Syarat utama untuk penjumlahan matriks adalah matriks yang dijumlahkan harus memiliki ordo yang sama. Misalnya, matriks A dengan ordo 2 x 2 hanya dapat dijumlahkan dengan matriks lain yang juga memiliki ordo 2 x 2.\n",
    "\n",
    "Contoh :"
   ]
  },
  {
   "cell_type": "code",
   "execution_count": 5,
   "metadata": {},
   "outputs": [
    {
     "name": "stdout",
     "output_type": "stream",
     "text": [
      "Matriks A\n",
      "[[8 6]\n",
      " [5 6]]\n",
      "\n",
      "Matriks B\n",
      "[[8 2]\n",
      " [2 4]]\n",
      "\n",
      "Hasil dari A + B\n",
      "[[16  8]\n",
      " [ 7 10]]\n"
     ]
    }
   ],
   "source": [
    "import numpy as np\n",
    "import random\n",
    "\n",
    "A = np.random.randint(10,size=(2,2))\n",
    "B = np.random.randint(10,size=(2,2))\n",
    "\n",
    "print(\"Matriks A\")\n",
    "print(A)\n",
    "print()\n",
    "print(\"Matriks B\")\n",
    "print(B)\n",
    "print()\n",
    "\n",
    "AB = A + B\n",
    "print(\"Hasil dari A + B\")\n",
    "print(AB)"
   ]
  },
  {
   "cell_type": "markdown",
   "metadata": {},
   "source": [
    "### Pengurangan\n",
    "\n",
    "Konsep pengurangan matriks mirip dengan penjumlahan. Syaratnya tetap sama, yaitu matriks yang dikurangkan harus memiliki ordo yang sama.\n",
    "\n",
    "Contoh:"
   ]
  },
  {
   "cell_type": "code",
   "execution_count": 6,
   "metadata": {},
   "outputs": [
    {
     "name": "stdout",
     "output_type": "stream",
     "text": [
      "Matriks A\n",
      "[[6 3]\n",
      " [2 4]]\n",
      "\n",
      "Matriks B\n",
      "[[7 3]\n",
      " [2 3]]\n",
      "\n",
      "Hasil dari A - B\n",
      "[[-1  0]\n",
      " [ 0  1]]\n"
     ]
    }
   ],
   "source": [
    "import numpy as np\n",
    "import random\n",
    "\n",
    "A = np.random.randint(10,size=(2,2))\n",
    "B = np.random.randint(10,size=(2,2))\n",
    "\n",
    "print(\"Matriks A\")\n",
    "print(A)\n",
    "print()\n",
    "print(\"Matriks B\")\n",
    "print(B)\n",
    "print()\n",
    "\n",
    "AB = A - B\n",
    "print(\"Hasil dari A - B\")\n",
    "print(AB)"
   ]
  },
  {
   "cell_type": "markdown",
   "metadata": {},
   "source": [
    "### Perkalian\n",
    "\n",
    "Perkalian matriks melibatkan operasi antara elemen-elemen matriks. Perkalian matriks bersifat TIDAK komutatif, artinya A × B tidak selalu sama dengan B × A. Perkalian matriks memerlukan aturan tertentu, seperti jumlah kolom matriks pertama harus sama dengan jumlah baris matriks kedua.\n",
    "\n",
    "contoh:"
   ]
  },
  {
   "cell_type": "code",
   "execution_count": 7,
   "metadata": {},
   "outputs": [
    {
     "name": "stdout",
     "output_type": "stream",
     "text": [
      "Matriks A\n",
      "[[6 8 7]\n",
      " [5 5 1]\n",
      " [5 2 2]]\n",
      "\n",
      "Matriks B\n",
      "[[8 8 1]\n",
      " [2 9 2]\n",
      " [9 0 5]]\n",
      "\n",
      "Hasil dari A x B\n",
      "[[48 64  7]\n",
      " [10 45  2]\n",
      " [45  0 10]]\n"
     ]
    }
   ],
   "source": [
    "import numpy as np\n",
    "import random\n",
    "\n",
    "A = np.random.randint(10,size=(3,3))\n",
    "B = np.random.randint(10,size=(3,3))\n",
    "\n",
    "print(\"Matriks A\")\n",
    "print(A)\n",
    "print()\n",
    "print(\"Matriks B\")\n",
    "print(B)\n",
    "print()\n",
    "\n",
    "AB = A * B\n",
    "print(\"Hasil dari A x B\")\n",
    "print(AB)"
   ]
  },
  {
   "cell_type": "markdown",
   "metadata": {},
   "source": [
    "## Tugas Pertemuan 3\n",
    "Mengalikan Matrix Menggunakan Perulangan"
   ]
  },
  {
   "cell_type": "code",
   "execution_count": 8,
   "metadata": {},
   "outputs": [
    {
     "name": "stdout",
     "output_type": "stream",
     "text": [
      "Matrix A:\n",
      "[[3 4 2]\n",
      " [7 7 9]\n",
      " [4 9 6]\n",
      " [5 7 4]]\n",
      "\n",
      "Matrix B:\n",
      "[[9 0 6 1]\n",
      " [3 5 5 8]\n",
      " [3 4 9 4]]\n",
      "\n",
      "Hasil akhir perkalian matriks:\n",
      "[[ 45  28  56  43]\n",
      " [111  71 158  99]\n",
      " [ 81  69 123 100]\n",
      " [ 78  51 101  77]]\n"
     ]
    }
   ],
   "source": [
    "import numpy as np\n",
    "\n",
    "A = np.random.randint(10, size=(4, 3))\n",
    "B = np.random.randint(10, size=(3, 4))\n",
    "\n",
    "\n",
    "\n",
    "Kumpulan_matrix = [A, B]\n",
    "\n",
    "hasil = Kumpulan_matrix[0]\n",
    "\n",
    "for matrix in Kumpulan_matrix[1:]:\n",
    "    hasil = np.dot(hasil, matrix)\n",
    "\n",
    "print(\"Matrix A:\")\n",
    "print(A)\n",
    "print(\"\\nMatrix B:\")\n",
    "print(B)\n",
    "print(\"\\nHasil akhir perkalian matriks:\")\n",
    "print(hasil)"
   ]
  }
 ],
 "metadata": {
  "kernelspec": {
   "display_name": "Python 3",
   "language": "python",
   "name": "python3"
  },
  "language_info": {
   "codemirror_mode": {
    "name": "ipython",
    "version": 3
   },
   "file_extension": ".py",
   "mimetype": "text/x-python",
   "name": "python",
   "nbconvert_exporter": "python",
   "pygments_lexer": "ipython3",
   "version": "3.10.13"
  }
 },
 "nbformat": 4,
 "nbformat_minor": 2
}