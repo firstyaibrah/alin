{
 "cells": [
  {
   "cell_type": "markdown",
   "metadata": {},
   "source": [
    "# Github\n",
    "\n",
    "## Tugas Pendahuluan\n",
    "\n",
    "Membuat video tutorial cara membuat web statis dengan jupyter book\n",
    "\n",
    "![Ibrah](../tugas/Github.png)\n",
    "\n",
    "## Cara \n",
    "\n",
    "1. Masuk ke akun github atau buat akun github bila belum memiliki akun\n",
    "2. Buat repository baru\n",
    "3. Tambahkan README.md\n",
    "4. Pada branch \"main\", masuk ke codespace pada menu \"code\"\n",
    "5. Untuk menginstall jupyter book ke codespace, ketik \"pip install jupyter-book\"\n",
    "6. Untuk membuat templatenya, ketik 'jupyter-book create (nama folder)\"\n",
    "7. Ubah file ke bentuk html dengan ketik \"jupyter-book build (nama folder)\", nama folder harus sama saat folder dibuat\n",
    "8. Ke folder _build/html, copy semua isi folder html lalu paste diluar folder yang dibuat\n",
    "9. Tambahkan file \".nojekyll\" agar menonaktifkan jekyll ketika html dibuild\n",
    "10. Ke source control, isi nama pada kolom kosong di atas tombol commit\n",
    "11. Klik commit, lalu klik sync untuk menampilkan di github\n",
    "12. Masuk ke repository github untuk mengecek apakah file sudah ditampilkan, apabila belum bisa direfresh\n",
    "13. Masuk ke setting, ke menu page, ubah bagian branch dari none ke main, lalu save\n",
    "14. Tunggu hingga proses verifikasi selesai\n",
    "15. Apabila berhasil, pergi ke setting, pada menu page, klik visit site\n",
    "16. Jupyter Book berhasil dibuat\n",
    "\n",
    "[Berikut Link Youtube Saya](https://youtu.be/V9C5tlLcwIE?si=yRxhNFuW1Cmb4HmZ) untuk informasi lebih lanjut."
   ]
  }
 ],
 "metadata": {
  "kernelspec": {
   "display_name": "Python 3",
   "language": "python",
   "name": "python3"
  },
  "language_info": {
   "codemirror_mode": {
    "name": "ipython",
    "version": 3
   },
   "file_extension": ".py",
   "mimetype": "text/x-python",
   "name": "python",
   "nbconvert_exporter": "python",
   "pygments_lexer": "ipython3",
   "version": "3.10.13"
  }
 },
 "nbformat": 4,
 "nbformat_minor": 2
}