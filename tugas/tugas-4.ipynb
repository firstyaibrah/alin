{
 "cells": [
  {
   "cell_type": "markdown",
   "metadata": {},
   "source": [
    "# Matrix Invers\n",
    "\n",
    "Invers matriks adalah kebalikan (invers) dari sebuah matriks yang apabila matriks tersebut dikalikan dengan inversnya, akan menjadi matriks identitas. Invers matriks dilambangkan dengan A-1. Suatu matriks dikatakan memiliki invers jika determinan dari matriks tersebut tidak sama dengan nol(non-singular).\n",
    "\n",
    "Invers suatu matriks hanya mungkin terjadi jika sifat-sifat berikut berlaku:\n",
    "1. Matriksnya harus berupa matriks persegi.\n",
    "2. Matriksnya harus berupa matriks non-singular\n",
    "3. Terdapat matriks Identitas I yang mana $A A^{-1} = A^{-1} A = I$"
   ]
  },
  {
   "cell_type": "markdown",
   "metadata": {},
   "source": [
    "## Mencari Matrix Invers Menggunakan Metode Eliminasi Gauss-Jordan\n",
    "\n",
    "Metode Gauss-Jordan merupakan salah satu varian dari eliminasi Gaussian yang dilakukan dengan cara operasi reduksi baris untuk mencari invers suatu matriks.\n",
    "\n",
    "Langkah-langkah Mencari Invers Suatu Matriks Menggunakan Metode Eliminasi Gauss-Jordan\n",
    "\n",
    "1. diberikan sebuah matrix $A_{3*3}$\n",
    "\n",
    "\\begin{bmatrix}\n",
    "1 & 2 & -2\\\\ \n",
    "1 & 1 & 1\\\\ \n",
    "0 & 0 & 1\n",
    "\\end{bmatrix}\n",
    "    \n",
    "2. Bentuklah matriks yang diperbesar dengan matriks identitas $AI$.\n",
    "\n",
    "\\begin{bmatrix}\n",
    "1 & 2 & -2 & 1 & 0 & 0\\\\ \n",
    "1 & 1 & 1 & 0 & 1 & 0\\\\ \n",
    "0 & 0 & 1 & 0 & 0 & 1\n",
    "\\end{bmatrix}\n",
    "3. Lakukan operasi reduksi baris pada matriks yang diperbesar ini untuk menghasilkan bentuk $ IA^{-1}$"
   ]
  },
  {
   "cell_type": "code",
   "execution_count": 1,
   "metadata": {},
   "outputs": [],
   "source": [
    "# import library numpy\n",
    "import numpy as np\n",
    "\n",
    "def RowSwap(A,k,l):\n",
    "# =============================================================================\n",
    "#     A adalah sebuah NumPy array.  RowSwap akan menghasilkan duplicate dari \n",
    "#     array dengan baris k dan l di tukar\n",
    "# =============================================================================\n",
    "    m = A.shape[0]  # m adalah nomor baris di A\n",
    "    n = A.shape[1]  # n adalah nomor kolom di A\n",
    "\n",
    "    B = np.copy(A).astype('float64')\n",
    "\n",
    "    for j in range(n):\n",
    "        temp = B[k][j]\n",
    "        B[k][j] = B[l][j]\n",
    "        B[l][j] = temp\n",
    "\n",
    "    return B\n",
    "\n",
    "def RowScale(A,k,scale):\n",
    "# =============================================================================\n",
    "#     A adalah sebuah NumPy array.  RowScale akan menghasilkan duplicate dari \n",
    "#     array dengan baris k di kali dengan skalar bukan 0\n",
    "# =============================================================================\n",
    "    m = A.shape[0]  # m adalah nomor baris di A\n",
    "    n = A.shape[1]  # n adalah nomor kolom di A\n",
    "\n",
    "    B = np.copy(A).astype('float64')\n",
    "\n",
    "    for j in range(n):\n",
    "        B[k][j] *= scale\n",
    "\n",
    "    return B\n",
    "\n",
    "def RowAdd(A,k,l,scale):\n",
    "# =============================================================================\n",
    "#     A adalah sebuah NumPy array.  RowAdd akan menghasilkan duplicate dari \n",
    "#     array dengan baris k akan di kali dengan 'scale' bukan 0. lalu nilai\n",
    "#     baris l akan di tambah dengan nilai baris k yang sudah dikalikan  \n",
    "# =============================================================================\n",
    "    m = A.shape[0]  # m adalah nomor baris di A\n",
    "    n = A.shape[1]  # n adalah nomor kolom di A\n",
    "\n",
    "    B = np.copy(A).astype('float64')\n",
    "\n",
    "    for j in range(n):\n",
    "        B[l][j] += B[k][j]*scale\n",
    "\n",
    "    return B"
   ]
  },
  {
   "cell_type": "code",
   "execution_count": 2,
   "metadata": {},
   "outputs": [
    {
     "name": "stdout",
     "output_type": "stream",
     "text": [
      "[[ 1  2 -2  1  0  0]\n",
      " [ 1  1  1  0  1  0]\n",
      " [ 0  0  1  0  0  1]] \n",
      "\n",
      "[[ 1.  2. -2.  1.  0.  0.]\n",
      " [ 0. -1.  3. -1.  1.  0.]\n",
      " [ 0.  0.  1.  0.  0.  1.]] \n",
      "\n",
      "[[ 1.  2. -2.  1.  0.  0.]\n",
      " [-0.  1. -3.  1. -1. -0.]\n",
      " [ 0.  0.  1.  0.  0.  1.]] \n",
      "\n",
      "[[ 1.  0.  4. -1.  2.  0.]\n",
      " [-0.  1. -3.  1. -1. -0.]\n",
      " [ 0.  0.  1.  0.  0.  1.]] \n",
      "\n",
      "[[ 1.  0.  4. -1.  2.  0.]\n",
      " [ 0.  1.  0.  1. -1.  3.]\n",
      " [ 0.  0.  1.  0.  0.  1.]] \n",
      "\n",
      "[[ 1.  0.  0. -1.  2. -4.]\n",
      " [ 0.  1.  0.  1. -1.  3.]\n",
      " [ 0.  0.  1.  0.  0.  1.]] \n",
      "\n"
     ]
    }
   ],
   "source": [
    "AI = np.array([[1,2,-2,1,0,0],[1,1,1,0,1,0],[0,0,1,0,0,1]])\n",
    "print(AI,\"\\n\")\n",
    "\n",
    "AI1 = RowAdd(AI,0,1,-1)\n",
    "print(AI1,\"\\n\")\n",
    "\n",
    "AI2 = RowScale(AI1,1,-1)\n",
    "print(AI2,\"\\n\")\n",
    "\n",
    "AI3 = RowAdd(AI2,1,0,-2)\n",
    "print(AI3,\"\\n\")\n",
    "\n",
    "AI4 = RowAdd(AI3,2,1,3)\n",
    "print(AI4,\"\\n\")\n",
    "\n",
    "AI5 = RowAdd(AI4,2,0,-4)\n",
    "print(AI5,\"\\n\")"
   ]
  },
  {
   "cell_type": "markdown",
   "metadata": {},
   "source": [
    "4. dari operasi di atas di dapat $IA^{-1} $\n",
    "\\begin{bmatrix}\n",
    "1 & 0 & 0 &-1 & 2 & -4\\\\ \n",
    "0 & 1 & 0 & 1 & -1 & 3\\\\ \n",
    "0 & 0 & 1 & 0 & 0 & 1\n",
    "\\end{bmatrix}\n",
    "\n",
    "maka $ A^{-1} $\n",
    "\n",
    "\\begin{bmatrix}\n",
    "-1 & 2 & -4\\\\ \n",
    "1 & -1 & 3\\\\ \n",
    "0 & 0 & 1\n",
    "\\end{bmatrix}\n",
    "\n",
    "5. cek apakah $AA^{-1}=I$"
   ]
  },
  {
   "cell_type": "code",
   "execution_count": 3,
   "metadata": {},
   "outputs": [
    {
     "name": "stdout",
     "output_type": "stream",
     "text": [
      "[[1 0 0]\n",
      " [0 1 0]\n",
      " [0 0 1]]\n"
     ]
    }
   ],
   "source": [
    "A = np.array([[1,2,-2],[1,1,1],[0,0,1]])\n",
    "AI6 = np.array([[-1,2,-4],[1,-1,3],[0,0,1]])\n",
    "A_I = np.dot(A,AI6)\n",
    "print(A_I)"
   ]
  },
  {
   "cell_type": "code",
   "execution_count": 4,
   "metadata": {},
   "outputs": [
    {
     "name": "stdout",
     "output_type": "stream",
     "text": [
      "[[-1.  2. -4.]\n",
      " [ 1. -1.  3.]\n",
      " [ 0.  0.  1.]]\n"
     ]
    }
   ],
   "source": [
    "print(np.linalg.inv(A))"
   ]
  }
 ],
 "metadata": {
  "kernelspec": {
   "display_name": "Python 3",
   "language": "python",
   "name": "python3"
  },
  "language_info": {
   "codemirror_mode": {
    "name": "ipython",
    "version": 3
   },
   "file_extension": ".py",
   "mimetype": "text/x-python",
   "name": "python",
   "nbconvert_exporter": "python",
   "pygments_lexer": "ipython3",
   "version": "3.10.13"
  }
 },
 "nbformat": 4,
 "nbformat_minor": 2
}
