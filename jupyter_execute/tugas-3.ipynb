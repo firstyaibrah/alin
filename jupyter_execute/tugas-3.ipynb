{
 "cells": [
  {
   "cell_type": "markdown",
   "metadata": {},
   "source": [
    "# Materi dan Tugas Pertemuan 3"
   ]
  },
  {
   "cell_type": "markdown",
   "metadata": {},
   "source": [
    "##  Menghitung Matrix dengan Program"
   ]
  },
  {
   "cell_type": "markdown",
   "metadata": {},
   "source": [
    "### Cara Membuat Matrix Secara Manual Menggunakan Program Python\n",
    "\n"
   ]
  },
  {
   "cell_type": "markdown",
   "metadata": {},
   "source": [
    "1. Memanggil library numpy menggunakan syntax [import numpy] import. fungsinya untuk memanggil file lain dalam satu modul karena numpy adalah sebuah library yang bisa di panggil\n",
    "\n",
    "2. Membuat matrix secara manual menggunakan syntax \"numpy.array\", misal : [ A = numpy.array([[1,3,4],[-2,-8,-5]]) ], dengan isi numpy.array numpy adalah library yang sudah dipanggil tadi, dan array kegunaannya untuk memudahkan operasi komputasi tipe data numerik seperti penjumlahan, pengurangan, perkalian, pangkat, dan operasi lainnya yang bisa diterapkan pada vektor atau matrix dan beri angka untuk kolom dan baris pada matrix"
   ]
  },
  {
   "cell_type": "code",
   "execution_count": 1,
   "metadata": {},
   "outputs": [
    {
     "name": "stdout",
     "output_type": "stream",
     "text": [
      "[[ 1  3  4]\n",
      " [-2 -8 -5]]\n"
     ]
    }
   ],
   "source": [
    "import numpy\n",
    "\n",
    "A = numpy.array([[1,3,4],[-2,-8,-5]])\n",
    "print(A)"
   ]
  },
  {
   "cell_type": "markdown",
   "metadata": {},
   "source": [
    "### Cara Menentukan Matrix Secara Random Menggunakan Program Python\n",
    "1. Memanggil numpy dan random menggunakan syntax [import numpy] & [import Random] import gunanya untuk kita memanggil file lain dalam satu modul, numpy dan random adalah sebuah library yang bisa di panggil\n",
    "\n",
    "2. Membuat matrix menggunakan syntax \"numpy.random.randint\" misalnya : [ “A = numpy.random.randint(10, size=(2,2))” ], disini kegunaan dari randint sendiri adalah untuk mengacak angka, dan 10 adalah batas dari acak angka randint, size=(2,2) adalah ukuran kolom baris sebuah matrix"
   ]
  },
  {
   "cell_type": "code",
   "execution_count": 2,
   "metadata": {},
   "outputs": [
    {
     "name": "stdout",
     "output_type": "stream",
     "text": [
      "[[4 3]\n",
      " [2 8]]\n"
     ]
    }
   ],
   "source": [
    "import numpy as np\n",
    "import random\n",
    "\n",
    "A = np.random.randint(10,size=(2,2))\n",
    "print(A)"
   ]
  },
  {
   "cell_type": "markdown",
   "metadata": {},
   "source": [
    "### Cara Mengubah Matrix Menjadi Matrix Transpose Menggunakan Program Python\n",
    "\n",
    "Menentukan Matrix mana yang ingin di transpose, dan beri syntax [A.transpose()] Syntax “transpose()” digunakan untuk menghasilkan transpos dari matriks A. Transpos suatu matriks adalah operasi yang mengubah baris matriks menjadi kolom dan sebaliknya. Dengan kata lain, elemen pada baris ke-i dan kolom ke-j dari matriks asli akan menjadi elemen pada baris ke-j dan kolom ke-i dalam matriks transpose"
   ]
  },
  {
   "cell_type": "code",
   "execution_count": 3,
   "metadata": {},
   "outputs": [
    {
     "name": "stdout",
     "output_type": "stream",
     "text": [
      "Matrix A\n",
      "[[8 4]\n",
      " [2 8]]\n",
      "Matrix A yang sudah di transpose\n",
      "[[8 2]\n",
      " [4 8]]\n"
     ]
    }
   ],
   "source": [
    "import numpy as np\n",
    "import random\n",
    "\n",
    "A = np.random.randint(10,size=(2,2))\n",
    "A_T = A.transpose()\n",
    "print(\"Matrix A\")\n",
    "print(A)\n",
    "print(\"Matrix A yang sudah di transpose\")\n",
    "print(A_T)\n"
   ]
  },
  {
   "cell_type": "markdown",
   "metadata": {},
   "source": [
    "### Cara Mengetahui Shape Matrix Menggunakan Program Python\n",
    "\n",
    "Menentukan variable matrix mana yang ingin di ketahui shape nya, dan tambahkan syntax [A.Shape] Shape digunakan untuk mendapatkan tuple yang menyatakan dimensi dari array/matriks A. Dalam konteks NumPy atau library lain yang mendukung atribut shape, A.shape memberikan informasi tentang jumlah baris dan kolom"
   ]
  },
  {
   "cell_type": "code",
   "execution_count": 4,
   "metadata": {},
   "outputs": [
    {
     "data": {
      "text/plain": [
       "(4, 4)"
      ]
     },
     "execution_count": 4,
     "metadata": {},
     "output_type": "execute_result"
    }
   ],
   "source": [
    "import numpy as np\n",
    "import random\n",
    "\n",
    "A = np.random.randint(10,size=(4,4))\n",
    "A.shape"
   ]
  },
  {
   "cell_type": "markdown",
   "metadata": {},
   "source": [
    "# TUGAS PERTEMUAN 3\n",
    "\n",
    "Mengalikan Matrix Menggunakan Python"
   ]
  },
  {
   "cell_type": "code",
   "execution_count": 5,
   "metadata": {},
   "outputs": [
    {
     "name": "stdout",
     "output_type": "stream",
     "text": [
      "Matrix A:\n",
      "[[5 0 4]\n",
      " [3 1 9]\n",
      " [0 8 5]\n",
      " [3 8 7]]\n",
      "\n",
      "Matrix B:\n",
      "[[3 7 0 9]\n",
      " [3 9 0 7]\n",
      " [2 7 9 2]]\n",
      "\n",
      "Hasil akhir perkalian matriks:\n",
      "[[ 23  63  36  53]\n",
      " [ 30  93  81  52]\n",
      " [ 34 107  45  66]\n",
      " [ 47 142  63  97]]\n"
     ]
    }
   ],
   "source": [
    "import numpy as np\n",
    "\n",
    "A = np.random.randint(10, size=(4, 3))\n",
    "B = np.random.randint(10, size=(3, 4))\n",
    "\n",
    "\n",
    "\n",
    "Kumpulan_matrix = [A, B]\n",
    "\n",
    "hasil = Kumpulan_matrix[0]\n",
    "\n",
    "for matrix in Kumpulan_matrix[1:]:\n",
    "    hasil = np.dot(hasil, matrix)\n",
    "\n",
    "print(\"Matrix A:\")\n",
    "print(A)\n",
    "print(\"\\nMatrix B:\")\n",
    "print(B)\n",
    "print(\"\\nHasil akhir perkalian matriks:\")\n",
    "print(hasil)"
   ]
  }
 ],
 "metadata": {
  "kernelspec": {
   "display_name": "Python 3",
   "language": "python",
   "name": "python3"
  },
  "language_info": {
   "codemirror_mode": {
    "name": "ipython",
    "version": 3
   },
   "file_extension": ".py",
   "mimetype": "text/x-python",
   "name": "python",
   "nbconvert_exporter": "python",
   "pygments_lexer": "ipython3",
   "version": "3.10.13"
  }
 },
 "nbformat": 4,
 "nbformat_minor": 2
}