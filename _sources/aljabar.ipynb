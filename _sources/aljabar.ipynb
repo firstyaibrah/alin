{
 "cells": [
  {
   "cell_type": "markdown",
   "metadata": {},
   "source": [
    "# Aljabar Matriks"
   ]
  },
  {
   "cell_type": "code",
   "execution_count": 10,
   "metadata": {},
   "outputs": [
    {
     "name": "stdout",
     "output_type": "stream",
     "text": [
      "[[4 3 6]\n",
      " [6 5 7]\n",
      " [4 2 7]] \n",
      "\n",
      "[[ 6 18 30]\n",
      " [12  6 48]\n",
      " [18 36 12]] \n",
      "\n",
      "[[ 6 18 30]\n",
      " [12  6 48]\n",
      " [18 36 12]] \n",
      "\n",
      "[[ 4 12 10]\n",
      " [ 6  9 15]\n",
      " [ 7 13  8]] \n",
      "\n",
      "3 \n",
      "\n",
      "(3, 2) \n",
      "\n",
      "[[30 51]\n",
      " [34 54]\n",
      " [39 77]] \n",
      "\n",
      "[[1 3 5]\n",
      " [2 1 8]\n",
      " [3 6 2]] \n",
      "\n",
      "[[ 1  6 15]\n",
      " [ 6  1 48]\n",
      " [15 48  4]] \n",
      "\n",
      "[[0 0 0]\n",
      " [0 0 0]\n",
      " [0 0 0]] \n",
      "\n",
      "[[ 4 12 12]\n",
      " [ 9  5 12]\n",
      " [30 56 14]] \n",
      "\n"
     ]
    }
   ],
   "source": [
    "import numpy as np\n",
    "A = np.array ([[1,3,5],[2,1,8],[3,6,2]])\n",
    "B = np.array ([[3,9,5],[4,8,7],[4,7,6]])\n",
    "C = np.array ([[3,7],[4,8],[3,4]])\n",
    "D = np.array ([[4,3,6],[6,5,7],[4,2,7]])\n",
    "\n",
    "E = np.random.randint(10,size=(3,3))\n",
    "print(D,\"\\n\")\n",
    "\n",
    "c = 2\n",
    "d = 4\n",
    "e = c + d\n",
    "G = e * A\n",
    "print(G,\"\\n\")\n",
    "\n",
    "H = (c * A) + (d * A)\n",
    "print(H,\"\\n\")\n",
    "\n",
    "K = A + B\n",
    "print(K,\"\\n\")\n",
    "\n",
    "L = C.shape[0]\n",
    "print(L,\"\\n\")\n",
    "\n",
    "M = C.shape\n",
    "print(M,\"\\n\")\n",
    "\n",
    "F = A @ C\n",
    "print(F,\"\\n\")\n",
    "\n",
    "A_T = A.transpose()\n",
    "COV = A * A_T\n",
    "print(A,\"\\n\")\n",
    "print(COV,\"\\n\")\n",
    "\n",
    "N = np.array ([[1,2,3],[2,4,5],[3,5,6]])\n",
    "N_T = N.transpose()\n",
    "B = N - N_T\n",
    "print(B,\"\\n\")\n",
    "\n",
    "O = (A + B) * D\n",
    "O_T = O.transpose()\n",
    "print(O_T, \"\\n\")\n"
   ]
  }
 ],
 "metadata": {
  "kernelspec": {
   "display_name": "Python 3",
   "language": "python",
   "name": "python3"
  },
  "language_info": {
   "codemirror_mode": {
    "name": "ipython",
    "version": 3
   },
   "file_extension": ".py",
   "mimetype": "text/x-python",
   "name": "python",
   "nbconvert_exporter": "python",
   "pygments_lexer": "ipython3",
   "version": "3.10.13"
  }
 },
 "nbformat": 4,
 "nbformat_minor": 2
}
